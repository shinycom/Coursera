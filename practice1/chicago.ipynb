{
 "cells": [
  {
   "cell_type": "code",
   "execution_count": null,
   "metadata": {},
   "outputs": [],
   "source": [
    "# python example from http://www.gregreda.com/2013/10/26/working-with-pandas-dataframes/\n",
    "\n",
    "#The City of Chicago is kind enough to publish all city employee salaries to its open data portal. \n",
    "#Let's go through some basic groupby examples using this data."
   ]
  },
  {
   "cell_type": "code",
   "execution_count": null,
   "metadata": {},
   "outputs": [],
   "source": [
    "#Since the data contains a dollar sign for each salary, python will treat the field as a series of strings. \n",
    "#We can use the converters parameter to change this when reading in the file."
   ]
  },
  {
   "cell_type": "code",
   "execution_count": 44,
   "metadata": {},
   "outputs": [
    {
     "data": {
      "text/html": [
       "<div>\n",
       "<style scoped>\n",
       "    .dataframe tbody tr th:only-of-type {\n",
       "        vertical-align: middle;\n",
       "    }\n",
       "\n",
       "    .dataframe tbody tr th {\n",
       "        vertical-align: top;\n",
       "    }\n",
       "\n",
       "    .dataframe thead th {\n",
       "        text-align: right;\n",
       "    }\n",
       "</style>\n",
       "<table border=\"1\" class=\"dataframe\">\n",
       "  <thead>\n",
       "    <tr style=\"text-align: right;\">\n",
       "      <th></th>\n",
       "      <th>name</th>\n",
       "      <th>title</th>\n",
       "      <th>department</th>\n",
       "      <th>salary</th>\n",
       "    </tr>\n",
       "  </thead>\n",
       "  <tbody>\n",
       "    <tr>\n",
       "      <th>0</th>\n",
       "      <td>AARON,  ELVIA J</td>\n",
       "      <td>WATER RATE TAKER</td>\n",
       "      <td>WATER MGMNT</td>\n",
       "      <td>85512.0</td>\n",
       "    </tr>\n",
       "    <tr>\n",
       "      <th>1</th>\n",
       "      <td>AARON,  JEFFERY M</td>\n",
       "      <td>POLICE OFFICER</td>\n",
       "      <td>POLICE</td>\n",
       "      <td>75372.0</td>\n",
       "    </tr>\n",
       "    <tr>\n",
       "      <th>2</th>\n",
       "      <td>AARON,  KIMBERLEI R</td>\n",
       "      <td>CHIEF CONTRACT EXPEDITER</td>\n",
       "      <td>GENERAL SERVICES</td>\n",
       "      <td>80916.0</td>\n",
       "    </tr>\n",
       "    <tr>\n",
       "      <th>3</th>\n",
       "      <td>ABAD JR,  VICENTE M</td>\n",
       "      <td>CIVIL ENGINEER IV</td>\n",
       "      <td>WATER MGMNT</td>\n",
       "      <td>99648.0</td>\n",
       "    </tr>\n",
       "    <tr>\n",
       "      <th>4</th>\n",
       "      <td>ABBATACOLA,  ROBERT J</td>\n",
       "      <td>ELECTRICAL MECHANIC</td>\n",
       "      <td>AVIATION</td>\n",
       "      <td>89440.0</td>\n",
       "    </tr>\n",
       "  </tbody>\n",
       "</table>\n",
       "</div>"
      ],
      "text/plain": [
       "                    name                     title        department   salary\n",
       "0        AARON,  ELVIA J          WATER RATE TAKER       WATER MGMNT  85512.0\n",
       "1      AARON,  JEFFERY M            POLICE OFFICER            POLICE  75372.0\n",
       "2    AARON,  KIMBERLEI R  CHIEF CONTRACT EXPEDITER  GENERAL SERVICES  80916.0\n",
       "3    ABAD JR,  VICENTE M         CIVIL ENGINEER IV       WATER MGMNT  99648.0\n",
       "4  ABBATACOLA,  ROBERT J       ELECTRICAL MECHANIC          AVIATION  89440.0"
      ]
     },
     "execution_count": 44,
     "metadata": {},
     "output_type": "execute_result"
    }
   ],
   "source": [
    "import pandas as pd\n",
    "headers = ['name', 'title', 'department', 'salary']\n",
    "chicago = pd.read_csv('Jupyter/chicago/city-of-chicago-salaries.csv',\n",
    "                      header=0,\n",
    "                      names=headers,\n",
    "                      converters={'salary': lambda x: float(x.replace('$',''))}\n",
    "                      )\n",
    "chicago.head()"
   ]
  },
  {
   "cell_type": "code",
   "execution_count": 45,
   "metadata": {},
   "outputs": [],
   "source": [
    "#pandas groupby returns a DataFrameGroupBy object which has a variety of methods, \n",
    "#many of which are similar to standard SQL aggregate functions."
   ]
  },
  {
   "cell_type": "code",
   "execution_count": 65,
   "metadata": {},
   "outputs": [
    {
     "name": "stdout",
     "output_type": "stream",
     "text": [
      "<pandas.core.groupby.generic.DataFrameGroupBy object at 0x0000021916057488>\n"
     ]
    }
   ],
   "source": [
    "by_dept = chicago.groupby('department')\n",
    "print(by_dept)"
   ]
  },
  {
   "cell_type": "code",
   "execution_count": 66,
   "metadata": {},
   "outputs": [],
   "source": [
    "#Calling count returns the total number of NOT NULL values within each column.\n",
    "#If we were interested in the total number of records in each group, we could use size."
   ]
  },
  {
   "cell_type": "code",
   "execution_count": 71,
   "metadata": {},
   "outputs": [
    {
     "name": "stdout",
     "output_type": "stream",
     "text": [
      "                   name  title  salary  dept_rank\n",
      "department                                       \n",
      "ADMIN HEARNG         42     42      42         42\n",
      "ANIMAL CONTRL        61     61      61         61\n",
      "AVIATION           1218   1218    1218       1218\n",
      "BOARD OF ELECTION   110    110     110        110\n",
      "BOARD OF ETHICS       9      9       9          9\n",
      "\n",
      "\n",
      "department\n",
      "PUBLIC LIBRARY     926\n",
      "STREETS & SAN     2070\n",
      "TRANSPORTN        1168\n",
      "TREASURER           25\n",
      "WATER MGMNT       1857\n",
      "dtype: int64\n"
     ]
    }
   ],
   "source": [
    "print(by_dept.count().head()) # NOT NULL records within each column\n",
    "print('\\n')\n",
    "print(by_dept.size().tail())"
   ]
  },
  {
   "cell_type": "code",
   "execution_count": 69,
   "metadata": {},
   "outputs": [],
   "source": [
    "# Summation can be done via sum. averaging by mean, etc."
   ]
  },
  {
   "cell_type": "code",
   "execution_count": 50,
   "metadata": {},
   "outputs": [
    {
     "name": "stdout",
     "output_type": "stream",
     "text": [
      "                       salary\n",
      "department                   \n",
      "HUMAN RESOURCES     4850928.0\n",
      "INSPECTOR GEN       4035150.0\n",
      "IPRA                7006128.0\n",
      "LAW                31883920.2\n",
      "LICENSE APPL COMM     65436.0\n",
      "\n",
      "\n",
      "                         salary\n",
      "department                     \n",
      "HUMAN RESOURCES    71337.176471\n",
      "INSPECTOR GEN      80703.000000\n",
      "IPRA               82425.035294\n",
      "LAW                70853.156000\n",
      "LICENSE APPL COMM  65436.000000\n"
     ]
    }
   ],
   "source": [
    "print(by_dept.sum()[20:25]) # total salaries of each depertment\n",
    "print('\\n')\n",
    "print(by_dept.mean()[20:25]) # average salary of each depertment"
   ]
  },
  {
   "cell_type": "code",
   "execution_count": 51,
   "metadata": {},
   "outputs": [],
   "source": [
    "# Operations can also be done on an individual Series within a grouped object.\n",
    "# Say we were curious about the five departments with the most distinct titles - the pandas equivalent to:"
   ]
  },
  {
   "cell_type": "raw",
   "metadata": {},
   "source": [
    "SELECT department, COUNT(DISTINCT title)\n",
    "FROM chicago\n",
    "GROUP BY department\n",
    "ORDER BY 2 DESC\n",
    "LIMIT 5;"
   ]
  },
  {
   "cell_type": "code",
   "execution_count": 52,
   "metadata": {},
   "outputs": [
    {
     "name": "stdout",
     "output_type": "stream",
     "text": [
      "department\n",
      "ADMIN HEARNG             [STAFF ASSISTANT - EXCLUDED, ADMINISTRATIVE AS...\n",
      "ANIMAL CONTRL            [ANIMAL CARE AIDE I, ANIMAL CONTROL OFFICER, E...\n",
      "AVIATION                 [ELECTRICAL MECHANIC, AVIATION SECURITY OFFICE...\n",
      "BOARD OF ELECTION        [SENIOR CLERK-ELECTIONS, PRINCIPAL CLERK-ELECT...\n",
      "BOARD OF ETHICS          [EXECUTIVE DIR - BOARD OF ETHICS, STAFF ASST, ...\n",
      "BUDGET & MGMT            [DIR OF PUBLIC INFORMATION, SENIOR BUDGET ANAL...\n",
      "BUILDINGS                [PLUMBING INSPECTOR, VENTILATION AND FURNACE I...\n",
      "BUSINESS AFFAIRS         [ENGINEERING TECHNICIAN V, SENIOR PUBLIC INFOR...\n",
      "CITY CLERK               [EDITORIAL ASST, ASST MANAGING EDITOR COUNCIL ...\n",
      "CITY COUNCIL             [LEGISLATIVE AIDE, ASST TO THE ALDERMAN, ALDER...\n",
      "COMMUNITY DEVELOPMENT    [ACCOUNTING TECHNICIAN II, SENIOR RESEARCH ANA...\n",
      "CULTURAL AFFAIRS         [SPECIAL EVENTS COORD III, STUDENT INTERN, ASS...\n",
      "DISABILITIES             [DEPUTY COMMISSIONER, DISABILITY SPECIALIST II...\n",
      "DoIT                     [SENIOR TELECOMMUNICATIONS SPECIALIST, DIR OF ...\n",
      "FAMILY & SUPPORT         [FOSTER GRANDPARENT, SENIOR PROGRAMMER/ANALYST...\n",
      "FINANCE                  [BOOTER - PARKING, ACCOUNTING TECHNICIAN I, AC...\n",
      "FIRE                     [FIREFIGHTER, FIREFIGHTER (PER ARBITRATORS AWA...\n",
      "GENERAL SERVICES         [CHIEF CONTRACT EXPEDITER, ELECTRICAL MECHANIC...\n",
      "HEALTH                   [PERSONAL COMPUTER OPERATOR II, SENIOR ENVIRON...\n",
      "HUMAN RELATIONS          [ASST TO THE COMMISSIONER, HUMAN RELATIONS SPE...\n",
      "HUMAN RESOURCES          [TESTING ADMINISTRATOR, CLERK III, ASSOC CLASS...\n",
      "INSPECTOR GEN            [INVESTIGATOR III - IG, ASST TO THE EXEC DIR, ...\n",
      "IPRA                     [INVESTIGATOR - IPRA II, SUPERVISING INVESTIGA...\n",
      "LAW                      [ASST CORPORATION COUNSEL SUPVSR, ASST CORPORA...\n",
      "LICENSE APPL COMM                                             [STAFF ASST]\n",
      "MAYOR'S OFFICE           [ASST ADMINISTRATIVE SECRETARY I, ASST PRESS S...\n",
      "OEMC                     [TRAFFIC CONTROL AIDE-HOURLY, SUPERVISING TRAF...\n",
      "POLICE                   [POLICE OFFICER, CLERK III, CROSSING GUARD, PO...\n",
      "POLICE BOARD             [SUPERVISING CLERK, EXECUTIVE DIR - POLICE BOARD]\n",
      "PROCUREMENT              [MANAGER OF CERTIFICATION / COMPLIANCE, CERTIF...\n",
      "PUBLIC LIBRARY           [LIBRARY ASSOCIATE, LIBRARY PAGE, LIBRARIAN IV...\n",
      "STREETS & SAN            [MOTOR TRUCK DRIVER, SANITATION LABORER, TREE ...\n",
      "TRANSPORTN               [TRAFFIC SIGNAL REPAIRMAN, ASPHALT LABORER, MO...\n",
      "TREASURER                [ASST CITY TREASURER, DEPUTY CITY TREASURER, A...\n",
      "WATER MGMNT              [WATER RATE TAKER, CIVIL ENGINEER IV, ENGINEER...\n",
      "Name: title, dtype: object\n",
      "\n",
      "\n",
      "department\n",
      "WATER MGMNT    153\n",
      "TRANSPORTN     150\n",
      "POLICE         130\n",
      "AVIATION       125\n",
      "HEALTH         118\n",
      "Name: title, dtype: int64\n"
     ]
    }
   ],
   "source": [
    "print(by_dept['title'].unique())\n",
    "print('\\n')\n",
    "print(by_dept['title'].nunique().sort_values(ascending=False)[:5]) "
   ]
  },
  {
   "cell_type": "raw",
   "metadata": {},
   "source": [
    "split-apply-combine\n",
    "The real power of groupby comes from it's split-apply-combine ability.\n",
    "\n",
    "What if we wanted to see the highest paid employee within each department. Given our current dataset, we'd have to do something like this in SQL:\n",
    "\n",
    "SELECT *\n",
    "FROM chicago c\n",
    "INNER JOIN (\n",
    "    SELECT department, max(salary) max_salary\n",
    "    FROM chicago\n",
    "    GROUP BY department\n",
    ") m\n",
    "ON c.department = m.department\n",
    "AND c.salary = m.max_salary;\n",
    "\n",
    "This would give you the highest paid person in each department, but it would return multiple if there were many equally high paid people within a department.\n",
    "\n",
    "Alternatively, you could alter the table, add a column, and then write an update statement to populate that column. However, that's not always an option.\n",
    "\n",
    "Note: This would be a lot easier in PostgreSQL, T-SQL, and possibly Oracle due to the existence of partition/window/analytic functions. I've chosen to use MySQL syntax throughout this tutorial because of it's popularity. Unfortunately, MySQL doesn't have similar functions.\n",
    "\n",
    "Using groupby we can define a function (which we'll call ranker) that will label each record from 1 to N, where N is the number of employees within the department. We can then call apply to, well, apply that function to each group (in this case, each department).\n"
   ]
  },
  {
   "cell_type": "code",
   "execution_count": 77,
   "metadata": {},
   "outputs": [],
   "source": [
    "def ranker(df):\n",
    "    \"\"\"Assigns a rank to each employee based on salary, with 1 being the highest paid.\n",
    "    Assumes the data is DESC sorted.\"\"\"\n",
    "    df['dept_rank'] = np.arange(len(df)) + 1\n",
    "    return df\n"
   ]
  },
  {
   "cell_type": "code",
   "execution_count": 78,
   "metadata": {},
   "outputs": [
    {
     "name": "stdout",
     "output_type": "stream",
     "text": [
      "                         name                     title      department  \\\n",
      "18039     MC CARTHY,  GARRY F  SUPERINTENDENT OF POLICE          POLICE   \n",
      "8004           EMANUEL,  RAHM                     MAYOR  MAYOR'S OFFICE   \n",
      "25588       SANTIAGO,  JOSE A         FIRE COMMISSIONER            FIRE   \n",
      "763    ANDOLINO,  ROSEMARIE S  COMMISSIONER OF AVIATION        AVIATION   \n",
      "4697     CHOUCAIR,  BECHARA N    COMMISSIONER OF HEALTH          HEALTH   \n",
      "21971      PATTON,  STEPHEN R       CORPORATION COUNSEL             LAW   \n",
      "12635      HOLT,  ALEXANDRA D                BUDGET DIR   BUDGET & MGMT   \n",
      "\n",
      "         salary  dept_rank  \n",
      "18039  260004.0          1  \n",
      "8004   216210.0          1  \n",
      "25588  202728.0          1  \n",
      "763    186576.0          1  \n",
      "4697   177156.0          1  \n",
      "21971  173664.0          1  \n",
      "12635  169992.0          1  \n"
     ]
    }
   ],
   "source": [
    "chicago.sort_values('salary', ascending=False, inplace=True)\n",
    "chicago = chicago.groupby('department').apply(ranker)\n",
    "print(chicago[chicago.dept_rank == 1].head(7))"
   ]
  },
  {
   "cell_type": "code",
   "execution_count": 79,
   "metadata": {},
   "outputs": [
    {
     "data": {
      "text/html": [
       "<div>\n",
       "<style scoped>\n",
       "    .dataframe tbody tr th:only-of-type {\n",
       "        vertical-align: middle;\n",
       "    }\n",
       "\n",
       "    .dataframe tbody tr th {\n",
       "        vertical-align: top;\n",
       "    }\n",
       "\n",
       "    .dataframe thead th {\n",
       "        text-align: right;\n",
       "    }\n",
       "</style>\n",
       "<table border=\"1\" class=\"dataframe\">\n",
       "  <thead>\n",
       "    <tr style=\"text-align: right;\">\n",
       "      <th></th>\n",
       "      <th>name</th>\n",
       "      <th>title</th>\n",
       "      <th>department</th>\n",
       "      <th>salary</th>\n",
       "      <th>dept_rank</th>\n",
       "    </tr>\n",
       "  </thead>\n",
       "  <tbody>\n",
       "    <tr>\n",
       "      <th>21971</th>\n",
       "      <td>PATTON,  STEPHEN R</td>\n",
       "      <td>CORPORATION COUNSEL</td>\n",
       "      <td>LAW</td>\n",
       "      <td>173664.0</td>\n",
       "      <td>1</td>\n",
       "    </tr>\n",
       "    <tr>\n",
       "      <th>6311</th>\n",
       "      <td>DARLING,  LESLIE M</td>\n",
       "      <td>FIRST ASST CORPORATION COUNSEL</td>\n",
       "      <td>LAW</td>\n",
       "      <td>149160.0</td>\n",
       "      <td>2</td>\n",
       "    </tr>\n",
       "    <tr>\n",
       "      <th>17680</th>\n",
       "      <td>MARTINICO,  JOSEPH P</td>\n",
       "      <td>CHIEF LABOR NEGOTIATOR</td>\n",
       "      <td>LAW</td>\n",
       "      <td>144036.0</td>\n",
       "      <td>3</td>\n",
       "    </tr>\n",
       "    <tr>\n",
       "      <th>22357</th>\n",
       "      <td>PETERS,  LYNDA A</td>\n",
       "      <td>CITY PROSECUTOR</td>\n",
       "      <td>LAW</td>\n",
       "      <td>139932.0</td>\n",
       "      <td>4</td>\n",
       "    </tr>\n",
       "    <tr>\n",
       "      <th>25022</th>\n",
       "      <td>RUETHER,  MARY E</td>\n",
       "      <td>DEPUTY CORPORATION COUNSEL</td>\n",
       "      <td>LAW</td>\n",
       "      <td>137076.0</td>\n",
       "      <td>5</td>\n",
       "    </tr>\n",
       "  </tbody>\n",
       "</table>\n",
       "</div>"
      ],
      "text/plain": [
       "                       name                           title department  \\\n",
       "21971    PATTON,  STEPHEN R             CORPORATION COUNSEL        LAW   \n",
       "6311     DARLING,  LESLIE M  FIRST ASST CORPORATION COUNSEL        LAW   \n",
       "17680  MARTINICO,  JOSEPH P          CHIEF LABOR NEGOTIATOR        LAW   \n",
       "22357      PETERS,  LYNDA A                 CITY PROSECUTOR        LAW   \n",
       "25022      RUETHER,  MARY E      DEPUTY CORPORATION COUNSEL        LAW   \n",
       "\n",
       "         salary  dept_rank  \n",
       "21971  173664.0          1  \n",
       "6311   149160.0          2  \n",
       "17680  144036.0          3  \n",
       "22357  139932.0          4  \n",
       "25022  137076.0          5  "
      ]
     },
     "execution_count": 79,
     "metadata": {},
     "output_type": "execute_result"
    }
   ],
   "source": [
    "chicago[chicago.department == \"LAW\"][:5]"
   ]
  },
  {
   "cell_type": "code",
   "execution_count": 39,
   "metadata": {},
   "outputs": [
    {
     "data": {
      "text/html": [
       "<div>\n",
       "<style scoped>\n",
       "    .dataframe tbody tr th:only-of-type {\n",
       "        vertical-align: middle;\n",
       "    }\n",
       "\n",
       "    .dataframe tbody tr th {\n",
       "        vertical-align: top;\n",
       "    }\n",
       "\n",
       "    .dataframe thead th {\n",
       "        text-align: right;\n",
       "    }\n",
       "</style>\n",
       "<table border=\"1\" class=\"dataframe\">\n",
       "  <thead>\n",
       "    <tr style=\"text-align: right;\">\n",
       "      <th></th>\n",
       "      <th>d</th>\n",
       "      <th>c</th>\n",
       "      <th>b</th>\n",
       "      <th>a</th>\n",
       "    </tr>\n",
       "  </thead>\n",
       "  <tbody>\n",
       "    <tr>\n",
       "      <th>three</th>\n",
       "      <td>0</td>\n",
       "      <td>3</td>\n",
       "      <td>2</td>\n",
       "      <td>1</td>\n",
       "    </tr>\n",
       "    <tr>\n",
       "      <th>one</th>\n",
       "      <td>4</td>\n",
       "      <td>7</td>\n",
       "      <td>6</td>\n",
       "      <td>5</td>\n",
       "    </tr>\n",
       "  </tbody>\n",
       "</table>\n",
       "</div>"
      ],
      "text/plain": [
       "       d  c  b  a\n",
       "three  0  3  2  1\n",
       "one    4  7  6  5"
      ]
     },
     "execution_count": 39,
     "metadata": {},
     "output_type": "execute_result"
    }
   ],
   "source": []
  },
  {
   "cell_type": "code",
   "execution_count": null,
   "metadata": {},
   "outputs": [],
   "source": []
  }
 ],
 "metadata": {
  "celltoolbar": "Raw Cell Format",
  "kernelspec": {
   "display_name": "Python 3",
   "language": "python",
   "name": "python3"
  },
  "language_info": {
   "codemirror_mode": {
    "name": "ipython",
    "version": 3
   },
   "file_extension": ".py",
   "mimetype": "text/x-python",
   "name": "python",
   "nbconvert_exporter": "python",
   "pygments_lexer": "ipython3",
   "version": "3.7.6"
  }
 },
 "nbformat": 4,
 "nbformat_minor": 4
}
